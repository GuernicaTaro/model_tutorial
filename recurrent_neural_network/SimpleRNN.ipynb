{
 "cells": [
  {
   "cell_type": "markdown",
   "id": "d1e1e3fe",
   "metadata": {},
   "source": [
    "参考文献（実装）：\n",
    "https://qiita.com/everylittle/items/c088564d53cdfcde92cc"
   ]
  },
  {
   "cell_type": "code",
   "execution_count": 1,
   "id": "89bb250e",
   "metadata": {},
   "outputs": [],
   "source": [
    "import tensorflow as tf \n",
    "import numpy as np \n",
    "from tensorflow.keras import Sequential \n",
    "from tensorflow.keras.layers import SimpleRNN\n",
    "from tensorflow.keras.optimizers import SGD\n",
    "\n",
    "from tqdm import tqdm\n",
    "import matplotlib.pyplot as plt\n",
    "%matplotlib inline\n",
    "\n",
    "tf.random.set_seed(111)\n",
    "np.random.seed(111)"
   ]
  },
  {
   "cell_type": "code",
   "execution_count": 2,
   "id": "52b61053",
   "metadata": {},
   "outputs": [],
   "source": [
    "def plant_siso(u):\n",
    "    A = np.matrix([[0.5, 0.25, 0.125], [1, 0, 0], [0, 1, 0]])\n",
    "    b = np.matrix([[1], [0], [0]])\n",
    "    c = np.matrix([1, 1, 1])\n",
    "    \n",
    "    step = len(u)\n",
    "    x = np.zeros((3,1))\n",
    "    y = np.zeros((step,1))\n",
    "    for i in range(step):\n",
    "        x = A*x + b*u[i]\n",
    "        y[i] = c*x\n",
    "\n",
    "    return y"
   ]
  },
  {
   "cell_type": "code",
   "execution_count": 3,
   "id": "57f60a7e",
   "metadata": {},
   "outputs": [
    {
     "name": "stderr",
     "output_type": "stream",
     "text": [
      "100%|██████████████████████████████████████████████████████████| 51200/51200 [00:53<00:00, 959.04it/s]\n"
     ]
    }
   ],
   "source": [
    "n = 51200\n",
    "u = np.random.uniform(0, 1, (n, 30, 1))\n",
    "y = np.zeros((n, 30, 1))\n",
    "\n",
    "# y = np.array([plant_siso(u[i,:]) for i in range(n)])\n",
    "for i in tqdm(range(n)):\n",
    "    y[i,:,:] = plant_siso(u[i,:])"
   ]
  },
  {
   "cell_type": "code",
   "execution_count": 4,
   "id": "dcaaff90",
   "metadata": {},
   "outputs": [
    {
     "name": "stderr",
     "output_type": "stream",
     "text": [
      "2021-11-17 00:05:58.719644: I tensorflow/core/platform/cpu_feature_guard.cc:151] This TensorFlow binary is optimized with oneAPI Deep Neural Network Library (oneDNN) to use the following CPU instructions in performance-critical operations:  AVX2 FMA\n",
      "To enable them in other operations, rebuild TensorFlow with the appropriate compiler flags.\n",
      "/Users/ryotaroshima/.pyenv/versions/miniconda3-4.7.12/envs/model_tutorial/lib/python3.9/site-packages/keras/optimizer_v2/gradient_descent.py:102: UserWarning: The `lr` argument is deprecated, use `learning_rate` instead.\n",
      "  super(SGD, self).__init__(name, **kwargs)\n"
     ]
    },
    {
     "name": "stdout",
     "output_type": "stream",
     "text": [
      "Epoch 1/100\n",
      "100/100 [==============================] - 1s 5ms/step - loss: 72.2197\n",
      "Epoch 2/100\n",
      "100/100 [==============================] - 0s 5ms/step - loss: 71.1777\n",
      "Epoch 3/100\n",
      "100/100 [==============================] - 0s 5ms/step - loss: 70.2629\n",
      "Epoch 4/100\n",
      "100/100 [==============================] - 0s 5ms/step - loss: 69.3718\n",
      "Epoch 5/100\n",
      "100/100 [==============================] - 0s 4ms/step - loss: 68.4931\n",
      "Epoch 6/100\n",
      "100/100 [==============================] - 0s 4ms/step - loss: 67.6214\n",
      "Epoch 7/100\n",
      "100/100 [==============================] - 1s 6ms/step - loss: 66.7520\n",
      "Epoch 8/100\n",
      "100/100 [==============================] - 1s 6ms/step - loss: 65.8795\n",
      "Epoch 9/100\n",
      "100/100 [==============================] - 1s 6ms/step - loss: 64.9971\n",
      "Epoch 10/100\n",
      "100/100 [==============================] - 1s 5ms/step - loss: 64.0968\n",
      "Epoch 11/100\n",
      "100/100 [==============================] - 1s 7ms/step - loss: 63.1688\n",
      "Epoch 12/100\n",
      "100/100 [==============================] - 1s 5ms/step - loss: 62.2006\n",
      "Epoch 13/100\n",
      "100/100 [==============================] - 1s 6ms/step - loss: 61.1767\n",
      "Epoch 14/100\n",
      "100/100 [==============================] - 1s 5ms/step - loss: 60.0766\n",
      "Epoch 15/100\n",
      "100/100 [==============================] - 1s 6ms/step - loss: 58.8724\n",
      "Epoch 16/100\n",
      "100/100 [==============================] - 1s 6ms/step - loss: 57.5242\n",
      "Epoch 17/100\n",
      "100/100 [==============================] - 1s 5ms/step - loss: 55.9708\n",
      "Epoch 18/100\n",
      "100/100 [==============================] - 1s 6ms/step - loss: 54.1108\n",
      "Epoch 19/100\n",
      "100/100 [==============================] - 1s 6ms/step - loss: 51.7583\n",
      "Epoch 20/100\n",
      "100/100 [==============================] - 0s 5ms/step - loss: 48.5131\n",
      "Epoch 21/100\n",
      "100/100 [==============================] - 0s 5ms/step - loss: 43.2459\n",
      "Epoch 22/100\n",
      "100/100 [==============================] - 0s 5ms/step - loss: 29.7468\n",
      "Epoch 23/100\n",
      "100/100 [==============================] - 0s 5ms/step - loss: 4.7807\n",
      "Epoch 24/100\n",
      "100/100 [==============================] - 0s 4ms/step - loss: 4.1465\n",
      "Epoch 25/100\n",
      "100/100 [==============================] - 0s 4ms/step - loss: 4.0661\n",
      "Epoch 26/100\n",
      "100/100 [==============================] - 0s 4ms/step - loss: 3.9841\n",
      "Epoch 27/100\n",
      "100/100 [==============================] - 0s 4ms/step - loss: 3.9013\n",
      "Epoch 28/100\n",
      "100/100 [==============================] - 0s 4ms/step - loss: 3.8171\n",
      "Epoch 29/100\n",
      "100/100 [==============================] - 0s 4ms/step - loss: 3.7317\n",
      "Epoch 30/100\n",
      "100/100 [==============================] - 0s 5ms/step - loss: 3.6451\n",
      "Epoch 31/100\n",
      "100/100 [==============================] - 0s 5ms/step - loss: 3.5578\n",
      "Epoch 32/100\n",
      "100/100 [==============================] - 0s 5ms/step - loss: 3.4695\n",
      "Epoch 33/100\n",
      "100/100 [==============================] - 0s 5ms/step - loss: 3.3808\n",
      "Epoch 34/100\n",
      "100/100 [==============================] - 0s 4ms/step - loss: 3.2914\n",
      "Epoch 35/100\n",
      "100/100 [==============================] - 0s 4ms/step - loss: 3.2018\n",
      "Epoch 36/100\n",
      "100/100 [==============================] - 0s 4ms/step - loss: 3.1120\n",
      "Epoch 37/100\n",
      "100/100 [==============================] - 0s 5ms/step - loss: 3.0225\n",
      "Epoch 38/100\n",
      "100/100 [==============================] - 0s 4ms/step - loss: 2.9335\n",
      "Epoch 39/100\n",
      "100/100 [==============================] - 0s 4ms/step - loss: 2.8450\n",
      "Epoch 40/100\n",
      "100/100 [==============================] - 0s 4ms/step - loss: 2.7577\n",
      "Epoch 41/100\n",
      "100/100 [==============================] - 0s 5ms/step - loss: 2.6717\n",
      "Epoch 42/100\n",
      "100/100 [==============================] - 0s 5ms/step - loss: 2.5871\n",
      "Epoch 43/100\n",
      "100/100 [==============================] - 0s 4ms/step - loss: 2.5045\n",
      "Epoch 44/100\n",
      "100/100 [==============================] - 0s 5ms/step - loss: 2.4241\n",
      "Epoch 45/100\n",
      "100/100 [==============================] - 0s 5ms/step - loss: 2.3461\n",
      "Epoch 46/100\n",
      "100/100 [==============================] - 0s 4ms/step - loss: 2.2711\n",
      "Epoch 47/100\n",
      "100/100 [==============================] - 0s 5ms/step - loss: 2.1992\n",
      "Epoch 48/100\n",
      "100/100 [==============================] - 0s 4ms/step - loss: 2.1306\n",
      "Epoch 49/100\n",
      "100/100 [==============================] - 0s 4ms/step - loss: 2.0648\n",
      "Epoch 50/100\n",
      "100/100 [==============================] - 0s 4ms/step - loss: 2.0031\n",
      "Epoch 51/100\n",
      "100/100 [==============================] - 0s 4ms/step - loss: 1.9448\n",
      "Epoch 52/100\n",
      "100/100 [==============================] - 0s 4ms/step - loss: 1.8903\n",
      "Epoch 53/100\n",
      "100/100 [==============================] - 0s 4ms/step - loss: 1.8391\n",
      "Epoch 54/100\n",
      "100/100 [==============================] - 0s 4ms/step - loss: 1.7914\n",
      "Epoch 55/100\n",
      "100/100 [==============================] - 0s 5ms/step - loss: 1.7474\n",
      "Epoch 56/100\n",
      "100/100 [==============================] - 0s 5ms/step - loss: 1.7060\n",
      "Epoch 57/100\n",
      "100/100 [==============================] - 0s 4ms/step - loss: 1.6677\n",
      "Epoch 58/100\n",
      "100/100 [==============================] - 0s 5ms/step - loss: 1.6320\n",
      "Epoch 59/100\n",
      "100/100 [==============================] - 1s 8ms/step - loss: 1.5990\n",
      "Epoch 60/100\n",
      "100/100 [==============================] - 1s 7ms/step - loss: 1.5681\n",
      "Epoch 61/100\n",
      "100/100 [==============================] - 0s 5ms/step - loss: 1.5388\n",
      "Epoch 62/100\n",
      "100/100 [==============================] - 0s 5ms/step - loss: 1.5114\n",
      "Epoch 63/100\n",
      "100/100 [==============================] - 0s 4ms/step - loss: 1.4859\n",
      "Epoch 64/100\n",
      "100/100 [==============================] - 0s 4ms/step - loss: 1.4615\n",
      "Epoch 65/100\n",
      "100/100 [==============================] - 0s 4ms/step - loss: 1.4382\n",
      "Epoch 66/100\n",
      "100/100 [==============================] - 0s 4ms/step - loss: 1.4165\n",
      "Epoch 67/100\n",
      "100/100 [==============================] - 0s 5ms/step - loss: 1.3947\n",
      "Epoch 68/100\n",
      "100/100 [==============================] - 0s 5ms/step - loss: 1.3741\n",
      "Epoch 69/100\n",
      "100/100 [==============================] - 0s 4ms/step - loss: 1.3545\n",
      "Epoch 70/100\n",
      "100/100 [==============================] - 0s 4ms/step - loss: 1.3351\n",
      "Epoch 71/100\n",
      "100/100 [==============================] - 0s 4ms/step - loss: 1.3163\n",
      "Epoch 72/100\n",
      "100/100 [==============================] - 0s 5ms/step - loss: 1.2978\n",
      "Epoch 73/100\n",
      "100/100 [==============================] - 0s 5ms/step - loss: 1.2797\n",
      "Epoch 74/100\n",
      "100/100 [==============================] - 0s 5ms/step - loss: 1.2621\n",
      "Epoch 75/100\n",
      "100/100 [==============================] - 0s 4ms/step - loss: 1.2449\n",
      "Epoch 76/100\n",
      "100/100 [==============================] - 0s 4ms/step - loss: 1.2278\n",
      "Epoch 77/100\n",
      "100/100 [==============================] - 0s 4ms/step - loss: 1.2113\n",
      "Epoch 78/100\n",
      "100/100 [==============================] - 1s 5ms/step - loss: 1.1945\n",
      "Epoch 79/100\n",
      "100/100 [==============================] - 0s 5ms/step - loss: 1.1788\n",
      "Epoch 80/100\n",
      "100/100 [==============================] - 0s 4ms/step - loss: 1.1625\n",
      "Epoch 81/100\n",
      "100/100 [==============================] - 0s 5ms/step - loss: 1.1468\n",
      "Epoch 82/100\n",
      "100/100 [==============================] - 1s 5ms/step - loss: 1.1312\n",
      "Epoch 83/100\n",
      "100/100 [==============================] - 1s 6ms/step - loss: 1.1161\n",
      "Epoch 84/100\n",
      "100/100 [==============================] - 1s 5ms/step - loss: 1.1009\n",
      "Epoch 85/100\n",
      "100/100 [==============================] - 0s 5ms/step - loss: 1.0860\n",
      "Epoch 86/100\n",
      "100/100 [==============================] - 0s 5ms/step - loss: 1.0711\n",
      "Epoch 87/100\n",
      "100/100 [==============================] - 0s 4ms/step - loss: 1.0569\n",
      "Epoch 88/100\n",
      "100/100 [==============================] - 0s 4ms/step - loss: 1.0420\n",
      "Epoch 89/100\n",
      "100/100 [==============================] - 0s 4ms/step - loss: 1.0283\n",
      "Epoch 90/100\n",
      "100/100 [==============================] - 0s 4ms/step - loss: 1.0144\n",
      "Epoch 91/100\n",
      "100/100 [==============================] - 1s 6ms/step - loss: 1.0005\n",
      "Epoch 92/100\n",
      "100/100 [==============================] - 1s 5ms/step - loss: 0.9868\n",
      "Epoch 93/100\n",
      "100/100 [==============================] - 0s 5ms/step - loss: 0.9737\n",
      "Epoch 94/100\n",
      "100/100 [==============================] - 0s 5ms/step - loss: 0.9604\n",
      "Epoch 95/100\n",
      "100/100 [==============================] - 0s 4ms/step - loss: 0.9472\n",
      "Epoch 96/100\n",
      "100/100 [==============================] - 0s 4ms/step - loss: 0.9345\n",
      "Epoch 97/100\n",
      "100/100 [==============================] - 0s 4ms/step - loss: 0.9217\n",
      "Epoch 98/100\n",
      "100/100 [==============================] - 0s 4ms/step - loss: 0.9093\n",
      "Epoch 99/100\n",
      "100/100 [==============================] - 0s 5ms/step - loss: 0.8967\n",
      "Epoch 100/100\n",
      "100/100 [==============================] - 0s 4ms/step - loss: 0.8847\n"
     ]
    },
    {
     "data": {
      "text/plain": [
       "<keras.callbacks.History at 0x16b3d2670>"
      ]
     },
     "execution_count": 4,
     "metadata": {},
     "output_type": "execute_result"
    }
   ],
   "source": [
    "model = Sequential([\n",
    "    SimpleRNN(1, activation=None, input_shape=(None, 1), return_sequences=True) \n",
    "])\n",
    "model.compile(optimizer=SGD(lr=0.0001), loss=\"mean_squared_error\")\n",
    "model.fit(u, y, batch_size=512, epochs=100)"
   ]
  },
  {
   "cell_type": "code",
   "execution_count": 5,
   "id": "072334c3",
   "metadata": {},
   "outputs": [],
   "source": [
    "u_test = np.ones((1, 30, 1)) * 0.5\n",
    "y_test = plant_siso(u_test[0,:])\n",
    "y_pred = model.predict(u_test).flatten()"
   ]
  },
  {
   "cell_type": "code",
   "execution_count": 6,
   "id": "2eff23fb",
   "metadata": {},
   "outputs": [
    {
     "data": {
      "image/png": "[encoded data removed]",
      "text/plain": [
       "<Figure size 432x288 with 1 Axes>"
      ]
     },
     "metadata": {
      "needs_background": "light"
     },
     "output_type": "display_data"
    }
   ],
   "source": [
    "u_test1 = np.ones((1, 30, 1)) * 0.5\n",
    "y_test1 = plant_siso(u_test1[0,:])\n",
    "y_pred1 = model.predict(u_test1).flatten()\n",
    "\n",
    "tt = range(30)\n",
    "fig, ax = plt.subplots()\n",
    "ax.plot(tt, y_test1, label=\"test data\")\n",
    "ax.plot(tt, y_pred1, label=\"predicted\")\n",
    "ax.legend(fontsize=12)\n",
    "ax.set_xlabel('step')\n",
    "ax.set_ylabel('y')\n",
    "plt.show()"
   ]
  },
  {
   "cell_type": "code",
   "execution_count": 7,
   "id": "a502a71c",
   "metadata": {},
   "outputs": [
    {
     "data": {
      "image/png": "[encoded data removed]",
      "text/plain": [
       "<Figure size 432x288 with 1 Axes>"
      ]
     },
     "metadata": {
      "needs_background": "light"
     },
     "output_type": "display_data"
    }
   ],
   "source": [
    "u_test2 = np.ones((1, 30, 1)) *0.7\n",
    "y_test2 = plant_siso(u_test2[0,:])\n",
    "y_pred2 = model.predict(u_test2).flatten()\n",
    "\n",
    "fig, ax = plt.subplots()\n",
    "ax.plot(tt, y_test2, label=\"test data\")\n",
    "ax.plot(tt, y_pred2, label=\"predicted\")\n",
    "ax.legend(fontsize=12)\n",
    "ax.set_xlabel('step')\n",
    "ax.set_ylabel('y')\n",
    "plt.show()"
   ]
  },
  {
   "cell_type": "code",
   "execution_count": null,
   "id": "9419dbbe",
   "metadata": {},
   "outputs": [],
   "source": []
  },
  {
   "cell_type": "code",
   "execution_count": null,
   "id": "d1062691",
   "metadata": {},
   "outputs": [],
   "source": []
  }
 ],
 "metadata": {
  "kernelspec": {
   "display_name": "Python 3 (ipykernel)",
   "language": "python",
   "name": "python3"
  },
  "language_info": {
   "codemirror_mode": {
    "name": "ipython",
    "version": 3
   },
   "file_extension": ".py",
   "mimetype": "text/x-python",
   "name": "python",
   "nbconvert_exporter": "python",
   "pygments_lexer": "ipython3",
   "version": "3.9.7"
  }
 },
 "nbformat": 4,
 "nbformat_minor": 5
}
